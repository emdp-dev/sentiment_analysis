{
 "cells": [
  {
   "cell_type": "code",
   "execution_count": 140,
   "metadata": {
    "_cell_guid": "79c7e3d0-c299-4dcb-8224-4455121ee9b0",
    "_uuid": "d629ff2d2480ee46fbb7e2d37f6b5fab8052498a",
    "executionInfo": {
     "elapsed": 1627,
     "status": "ok",
     "timestamp": 1611121775362,
     "user": {
      "displayName": "ペラバンシャン Ｂ",
      "photoUrl": "",
      "userId": "09007282872278050769"
     },
     "user_tz": -420
    },
    "id": "FaYy83i1Njlk"
   },
   "outputs": [],
   "source": [
    "# DataFrame\n",
    "import pandas as pd\n",
    "\n",
    "# Matplot\n",
    "import matplotlib.pyplot as plt\n",
    "%matplotlib inline\n",
    "\n",
    "# Scikit-learn\n",
    "from sklearn.model_selection import train_test_split\n",
    "from sklearn.preprocessing import LabelEncoder\n",
    "from sklearn.metrics import confusion_matrix, classification_report, accuracy_score\n",
    "from sklearn.manifold import TSNE\n",
    "from sklearn.feature_extraction.text import TfidfVectorizer\n",
    "\n",
    "# Keras\n",
    "from keras.preprocessing.text import Tokenizer\n",
    "from keras.preprocessing.sequence import pad_sequences\n",
    "from keras.models import Sequential\n",
    "from keras.layers import Activation, Dense, Dropout, Embedding, Flatten, Conv1D, MaxPooling1D, LSTM\n",
    "from keras import utils\n",
    "from keras.callbacks import ReduceLROnPlateau, EarlyStopping\n",
    "\n",
    "# nltk\n",
    "import nltk\n",
    "from nltk.corpus import stopwords\n",
    "from  nltk.stem import SnowballStemmer\n",
    "\n",
    "#from Sastrawi.StopWordRemover.StopWordRemoverFactory import StopWordRemoverFactory\n",
    "# Word2vec\n",
    "import gensim\n",
    "\n",
    "# Utility\n",
    "import re\n",
    "import numpy as np\n",
    "import os\n",
    "from collections import Counter\n",
    "import logging\n",
    "import time\n",
    "import pickle\n",
    "import itertools\n",
    "\n",
    "# Set log\n",
    "logging.basicConfig(format='%(asctime)s : %(levelname)s : %(message)s', level=logging.INFO)\n",
    "\n"
   ]
  },
  {
   "cell_type": "code",
   "execution_count": 141,
   "metadata": {
    "executionInfo": {
     "elapsed": 1024,
     "status": "ok",
     "timestamp": 1611121799810,
     "user": {
      "displayName": "ペラバンシャン Ｂ",
      "photoUrl": "",
      "userId": "09007282872278050769"
     },
     "user_tz": -420
    },
    "id": "UPHzHkisNjlp"
   },
   "outputs": [],
   "source": [
    "# TEXT CLENAING\n",
    "TEXT_CLEANING_RE = \"@\\S+|https?:\\S+|http?:\\S|[^A-Za-z0-9]+\"\n",
    "\n",
    "# WORD2VEC \n",
    "W2V_SIZE = 300\n",
    "W2V_WINDOW = 7\n",
    "W2V_EPOCH = 32\n",
    "W2V_MIN_COUNT = 10\n",
    "\n",
    "# KERAS\n",
    "SEQUENCE_LENGTH = 300\n",
    "EPOCHS = 8\n",
    "BATCH_SIZE =1024\n",
    "\n",
    "# SENTIMENT\n",
    "POSITIVE = \"POSITIVE\"\n",
    "NEGATIVE = \"NEGATIVE\"\n",
    "NEUTRAL = \"NEUTRAL\"\n",
    "SENTIMENT_THRESHOLDS = (0.4, 0.7)\n",
    "\n",
    "# EXPORT\n",
    "KERAS_MODEL = \"model.h5\"\n",
    "WORD2VEC_MODEL = \"model.w2v\"\n",
    "TOKENIZER_MODEL = \"tokenizer.pkl\"\n",
    "ENCODER_MODEL = \"encoder.pkl\""
   ]
  },
  {
   "cell_type": "code",
   "execution_count": 290,
   "metadata": {
    "executionInfo": {
     "elapsed": 1065,
     "status": "ok",
     "timestamp": 1611121924789,
     "user": {
      "displayName": "ペラバンシャン Ｂ",
      "photoUrl": "",
      "userId": "09007282872278050769"
     },
     "user_tz": -420
    },
    "id": "WfYxQdLQWOd2"
   },
   "outputs": [],
   "source": [
    "df = pd.read_csv(r'raffi_niafinal.csv',sep=',', engine='python')"
   ]
  },
  {
   "cell_type": "code",
   "execution_count": 291,
   "metadata": {
    "colab": {
     "base_uri": "https://localhost:8080/",
     "height": 204
    },
    "executionInfo": {
     "elapsed": 1144,
     "status": "ok",
     "timestamp": 1611121934609,
     "user": {
      "displayName": "ペラバンシャン Ｂ",
      "photoUrl": "",
      "userId": "09007282872278050769"
     },
     "user_tz": -420
    },
    "id": "LFF9VOSdWWsW",
    "outputId": "2254c859-fdbb-481e-f0cd-b747e75e2d78"
   },
   "outputs": [
    {
     "data": {
      "text/html": [
       "<div>\n",
       "<style scoped>\n",
       "    .dataframe tbody tr th:only-of-type {\n",
       "        vertical-align: middle;\n",
       "    }\n",
       "\n",
       "    .dataframe tbody tr th {\n",
       "        vertical-align: top;\n",
       "    }\n",
       "\n",
       "    .dataframe thead th {\n",
       "        text-align: right;\n",
       "    }\n",
       "</style>\n",
       "<table border=\"1\" class=\"dataframe\">\n",
       "  <thead>\n",
       "    <tr style=\"text-align: right;\">\n",
       "      <th></th>\n",
       "      <th>text</th>\n",
       "    </tr>\n",
       "  </thead>\n",
       "  <tbody>\n",
       "    <tr>\n",
       "      <th>0</th>\n",
       "      <td>Secara tidak langsung, kita bisa membuka mata ...</td>\n",
       "    </tr>\n",
       "    <tr>\n",
       "      <th>1</th>\n",
       "      <td>ang dari awal gak pernah muji Nia Ramadhani ng...</td>\n",
       "    </tr>\n",
       "    <tr>\n",
       "      <th>2</th>\n",
       "      <td>nia km.kok gerutu d atas panggung d dpn audien...</td>\n",
       "    </tr>\n",
       "    <tr>\n",
       "      <th>3</th>\n",
       "      <td>aku lebih suka ka sandra dewi walau tajir meli...</td>\n",
       "    </tr>\n",
       "    <tr>\n",
       "      <th>4</th>\n",
       "      <td>gw dr dulu liat nia jijay....sok iyes..sok kay...</td>\n",
       "    </tr>\n",
       "  </tbody>\n",
       "</table>\n",
       "</div>"
      ],
      "text/plain": [
       "                                                text\n",
       "0  Secara tidak langsung, kita bisa membuka mata ...\n",
       "1  ang dari awal gak pernah muji Nia Ramadhani ng...\n",
       "2  nia km.kok gerutu d atas panggung d dpn audien...\n",
       "3  aku lebih suka ka sandra dewi walau tajir meli...\n",
       "4  gw dr dulu liat nia jijay....sok iyes..sok kay..."
      ]
     },
     "execution_count": 291,
     "metadata": {},
     "output_type": "execute_result"
    }
   ],
   "source": [
    "df.head(5)"
   ]
  },
  {
   "cell_type": "code",
   "execution_count": 292,
   "metadata": {},
   "outputs": [
    {
     "name": "stderr",
     "output_type": "stream",
     "text": [
      "[nltk_data] Downloading package stopwords to\n",
      "[nltk_data]     /home/shaan/snap/jupyter/6/nltk_data...\n",
      "[nltk_data]   Package stopwords is already up-to-date!\n"
     ]
    },
    {
     "data": {
      "text/plain": [
       "True"
      ]
     },
     "execution_count": 292,
     "metadata": {},
     "output_type": "execute_result"
    }
   ],
   "source": [
    "import nltk\n",
    "import ssl\n",
    "\n",
    "try:\n",
    "    _create_unverified_https_context = ssl._create_unverified_context\n",
    "except AttributeError:\n",
    "    pass\n",
    "else:\n",
    "    ssl._create_default_https_context = _create_unverified_https_context\n",
    "\n",
    "nltk.download('stopwords')"
   ]
  },
  {
   "cell_type": "code",
   "execution_count": 293,
   "metadata": {
    "executionInfo": {
     "elapsed": 1074,
     "status": "ok",
     "timestamp": 1611122003584,
     "user": {
      "displayName": "ペラバンシャン Ｂ",
      "photoUrl": "",
      "userId": "09007282872278050769"
     },
     "user_tz": -420
    },
    "id": "z5ViiTj9Woc-"
   },
   "outputs": [],
   "source": [
    "important_words = ['janganlah','kasus','kurang','lagian','masalah','masalahnya','manalagi','mempersoalkan','mempertanyakan','mereka','bukan','tidak','enggak','bermacam-macam','jangan']"
   ]
  },
  {
   "cell_type": "code",
   "execution_count": 294,
   "metadata": {},
   "outputs": [],
   "source": [
    "new_words = ['d','tau','klo','km','lg','dgn','deh','sih','jg','aja','lu','iya','udah','lu','theblues19','the','gw','yg','kalo','kau','nya','ga','bs','jd']"
   ]
  },
  {
   "cell_type": "code",
   "execution_count": 295,
   "metadata": {},
   "outputs": [],
   "source": [
    "stop_words = set(stopwords.words('indonesian'))"
   ]
  },
  {
   "cell_type": "code",
   "execution_count": 296,
   "metadata": {},
   "outputs": [],
   "source": [
    "stop_words = stop_words.union(new_words)"
   ]
  },
  {
   "cell_type": "code",
   "execution_count": 297,
   "metadata": {
    "executionInfo": {
     "elapsed": 1014,
     "status": "ok",
     "timestamp": 1611122013985,
     "user": {
      "displayName": "ペラバンシャン Ｂ",
      "photoUrl": "",
      "userId": "09007282872278050769"
     },
     "user_tz": -420
    },
    "id": "8zfXA_jAWsjW"
   },
   "outputs": [],
   "source": [
    "stop_words = stop_words.difference(important_words)  "
   ]
  },
  {
   "cell_type": "code",
   "execution_count": 298,
   "metadata": {
    "executionInfo": {
     "elapsed": 1175,
     "status": "ok",
     "timestamp": 1611122111244,
     "user": {
      "displayName": "ペラバンシャン Ｂ",
      "photoUrl": "",
      "userId": "09007282872278050769"
     },
     "user_tz": -420
    },
    "id": "s0pdPy2pNjlr"
   },
   "outputs": [],
   "source": [
    "def preprocess(text, stem=False):\n",
    "    # Remove link,user and special characters\n",
    "    text = re.sub(TEXT_CLEANING_RE, ' ', str(text).lower()).strip()\n",
    "    tokens = []\n",
    "    for token in text.split():\n",
    "        if token not in stop_words:\n",
    "            if stem:\n",
    "                tokens.append(stemmers.stem(token))\n",
    "            else:\n",
    "                tokens.append(token)\n",
    "    return \" \".join(tokens)"
   ]
  },
  {
   "cell_type": "code",
   "execution_count": 299,
   "metadata": {
    "executionInfo": {
     "elapsed": 1063,
     "status": "ok",
     "timestamp": 1611122158386,
     "user": {
      "displayName": "ペラバンシャン Ｂ",
      "photoUrl": "",
      "userId": "09007282872278050769"
     },
     "user_tz": -420
    },
    "id": "a74PjJUqXG5O"
   },
   "outputs": [],
   "source": [
    "df.text = df.text.apply(lambda x: preprocess(x))"
   ]
  },
  {
   "cell_type": "code",
   "execution_count": 300,
   "metadata": {
    "colab": {
     "base_uri": "https://localhost:8080/",
     "height": 204
    },
    "executionInfo": {
     "elapsed": 1067,
     "status": "ok",
     "timestamp": 1611122169731,
     "user": {
      "displayName": "ペラバンシャン Ｂ",
      "photoUrl": "",
      "userId": "09007282872278050769"
     },
     "user_tz": -420
    },
    "id": "xD8BLL51XSbX",
    "outputId": "2b5912de-d110-492e-f530-6131801f82ec"
   },
   "outputs": [
    {
     "data": {
      "text/html": [
       "<div>\n",
       "<style scoped>\n",
       "    .dataframe tbody tr th:only-of-type {\n",
       "        vertical-align: middle;\n",
       "    }\n",
       "\n",
       "    .dataframe tbody tr th {\n",
       "        vertical-align: top;\n",
       "    }\n",
       "\n",
       "    .dataframe thead th {\n",
       "        text-align: right;\n",
       "    }\n",
       "</style>\n",
       "<table border=\"1\" class=\"dataframe\">\n",
       "  <thead>\n",
       "    <tr style=\"text-align: right;\">\n",
       "      <th></th>\n",
       "      <th>text</th>\n",
       "    </tr>\n",
       "  </thead>\n",
       "  <tbody>\n",
       "    <tr>\n",
       "      <th>0</th>\n",
       "      <td>tidak langsung membuka mata defisini cantik wa...</td>\n",
       "    </tr>\n",
       "    <tr>\n",
       "      <th>1</th>\n",
       "      <td>ang gak muji nia ramadhani ngumpul</td>\n",
       "    </tr>\n",
       "    <tr>\n",
       "      <th>2</th>\n",
       "      <td>nia gerutu panggung dpn audience malu knapa ra...</td>\n",
       "    </tr>\n",
       "    <tr>\n",
       "      <th>3</th>\n",
       "      <td>suka ka sandra dewi tajir melintir humble keli...</td>\n",
       "    </tr>\n",
       "    <tr>\n",
       "      <th>4</th>\n",
       "      <td>dr liat nia jijay sok iyes sok kaya suaminya k...</td>\n",
       "    </tr>\n",
       "    <tr>\n",
       "      <th>5</th>\n",
       "      <td>cantik doang gak kerja profesional</td>\n",
       "    </tr>\n",
       "    <tr>\n",
       "      <th>6</th>\n",
       "      <td>keribetan bajunya lagian diem2 dirumah nyonya ...</td>\n",
       "    </tr>\n",
       "    <tr>\n",
       "      <th>7</th>\n",
       "      <td>raffi ma emang pengalaman host handal host dia...</td>\n",
       "    </tr>\n",
       "    <tr>\n",
       "      <th>8</th>\n",
       "      <td>suruh pamer kekayaan suaminya bkn kekayaan ya ...</td>\n",
       "    </tr>\n",
       "    <tr>\n",
       "      <th>9</th>\n",
       "      <td>ngehost bawain acara alay beda bu nia lihat2 d...</td>\n",
       "    </tr>\n",
       "    <tr>\n",
       "      <th>10</th>\n",
       "      <td>nirina zubir host smart gue</td>\n",
       "    </tr>\n",
       "    <tr>\n",
       "      <th>11</th>\n",
       "      <td>penyelenggara acrnya parah nia ngga org laen a...</td>\n",
       "    </tr>\n",
       "    <tr>\n",
       "      <th>12</th>\n",
       "      <td>wkwkwkwkkw nih orang kaga pantes diacara berge...</td>\n",
       "    </tr>\n",
       "    <tr>\n",
       "      <th>13</th>\n",
       "      <td>rafi disanding ayu dewi luna maya host cocok m...</td>\n",
       "    </tr>\n",
       "    <tr>\n",
       "      <th>14</th>\n",
       "      <td>nia respek tamu2 hadir ngerasa istri sederajat...</td>\n",
       "    </tr>\n",
       "    <tr>\n",
       "      <th>15</th>\n",
       "      <td>udh bju amburadul jls omongan blepotan kmn had...</td>\n",
       "    </tr>\n",
       "    <tr>\n",
       "      <th>16</th>\n",
       "      <td>knp gak melani ricardo ayu dewi rina rose</td>\n",
       "    </tr>\n",
       "    <tr>\n",
       "      <th>17</th>\n",
       "      <td>cocok dampingin raffi host melanie ricardo ayu...</td>\n",
       "    </tr>\n",
       "    <tr>\n",
       "      <th>18</th>\n",
       "      <td>koq nia ramadhani gk cucok rempong childish am...</td>\n",
       "    </tr>\n",
       "    <tr>\n",
       "      <th>19</th>\n",
       "      <td>definisi good looking bad atitud</td>\n",
       "    </tr>\n",
       "  </tbody>\n",
       "</table>\n",
       "</div>"
      ],
      "text/plain": [
       "                                                 text\n",
       "0   tidak langsung membuka mata defisini cantik wa...\n",
       "1                  ang gak muji nia ramadhani ngumpul\n",
       "2   nia gerutu panggung dpn audience malu knapa ra...\n",
       "3   suka ka sandra dewi tajir melintir humble keli...\n",
       "4   dr liat nia jijay sok iyes sok kaya suaminya k...\n",
       "5                  cantik doang gak kerja profesional\n",
       "6   keribetan bajunya lagian diem2 dirumah nyonya ...\n",
       "7   raffi ma emang pengalaman host handal host dia...\n",
       "8   suruh pamer kekayaan suaminya bkn kekayaan ya ...\n",
       "9   ngehost bawain acara alay beda bu nia lihat2 d...\n",
       "10                        nirina zubir host smart gue\n",
       "11  penyelenggara acrnya parah nia ngga org laen a...\n",
       "12  wkwkwkwkkw nih orang kaga pantes diacara berge...\n",
       "13  rafi disanding ayu dewi luna maya host cocok m...\n",
       "14  nia respek tamu2 hadir ngerasa istri sederajat...\n",
       "15  udh bju amburadul jls omongan blepotan kmn had...\n",
       "16          knp gak melani ricardo ayu dewi rina rose\n",
       "17  cocok dampingin raffi host melanie ricardo ayu...\n",
       "18  koq nia ramadhani gk cucok rempong childish am...\n",
       "19                   definisi good looking bad atitud"
      ]
     },
     "execution_count": 300,
     "metadata": {},
     "output_type": "execute_result"
    }
   ],
   "source": [
    "df.head(20)"
   ]
  },
  {
   "cell_type": "code",
   "execution_count": 301,
   "metadata": {
    "colab": {
     "base_uri": "https://localhost:8080/"
    },
    "executionInfo": {
     "elapsed": 1057,
     "status": "ok",
     "timestamp": 1611122235348,
     "user": {
      "displayName": "ペラバンシャン Ｂ",
      "photoUrl": "",
      "userId": "09007282872278050769"
     },
     "user_tz": -420
    },
    "id": "DXNFNf4uNjls",
    "outputId": "18b5a58a-0401-4d0c-96f3-d51b23f16d99"
   },
   "outputs": [
    {
     "name": "stdout",
     "output_type": "stream",
     "text": [
      "TRAIN size: 325\n",
      "TEST size: 4\n"
     ]
    }
   ],
   "source": [
    "df_train, df_test = train_test_split(df, test_size=0.01, random_state=42)\n",
    "print(\"TRAIN size:\", len(df_train))\n",
    "print(\"TEST size:\", len(df_test))"
   ]
  },
  {
   "cell_type": "code",
   "execution_count": 302,
   "metadata": {
    "executionInfo": {
     "elapsed": 1063,
     "status": "ok",
     "timestamp": 1611122253811,
     "user": {
      "displayName": "ペラバンシャン Ｂ",
      "photoUrl": "",
      "userId": "09007282872278050769"
     },
     "user_tz": -420
    },
    "id": "6lipcAHkXVI-"
   },
   "outputs": [],
   "source": [
    "documents = [_text.split() for _text in df_train.text] "
   ]
  },
  {
   "cell_type": "code",
   "execution_count": 318,
   "metadata": {
    "executionInfo": {
     "elapsed": 1038,
     "status": "ok",
     "timestamp": 1611122286559,
     "user": {
      "displayName": "ペラバンシャン Ｂ",
      "photoUrl": "",
      "userId": "09007282872278050769"
     },
     "user_tz": -420
    },
    "id": "X6eVftLUNjls"
   },
   "outputs": [],
   "source": [
    "w2v_model = gensim.models.word2vec.Word2Vec(size=W2V_SIZE, \n",
    "                                            window=W2V_WINDOW, \n",
    "                                            min_count=5, \n",
    "                                            workers=8)\n"
   ]
  },
  {
   "cell_type": "code",
   "execution_count": 319,
   "metadata": {
    "colab": {
     "base_uri": "https://localhost:8080/"
    },
    "executionInfo": {
     "elapsed": 1000,
     "status": "ok",
     "timestamp": 1611122306735,
     "user": {
      "displayName": "ペラバンシャン Ｂ",
      "photoUrl": "",
      "userId": "09007282872278050769"
     },
     "user_tz": -420
    },
    "id": "kVh2KiLy8z6W",
    "outputId": "eed04981-3eee-4279-d1bb-6e79a1d62244"
   },
   "outputs": [
    {
     "name": "stderr",
     "output_type": "stream",
     "text": [
      "2021-02-02 16:15:10,273 : INFO : collecting all words and their counts\n",
      "2021-02-02 16:15:10,274 : INFO : PROGRESS: at sentence #0, processed 0 words, keeping 0 word types\n",
      "2021-02-02 16:15:10,276 : INFO : collected 1354 word types from a corpus of 3061 raw words and 325 sentences\n",
      "2021-02-02 16:15:10,276 : INFO : Loading a fresh vocabulary\n",
      "2021-02-02 16:15:10,277 : INFO : effective_min_count=5 retains 120 unique words (8% of original 1354, drops 1234)\n",
      "2021-02-02 16:15:10,278 : INFO : effective_min_count=5 leaves 1340 word corpus (43% of original 3061, drops 1721)\n",
      "2021-02-02 16:15:10,279 : INFO : deleting the raw counts dictionary of 1354 items\n",
      "2021-02-02 16:15:10,279 : INFO : sample=0.001 downsamples 120 most-common words\n",
      "2021-02-02 16:15:10,280 : INFO : downsampling leaves estimated 592 word corpus (44.2% of prior 1340)\n",
      "2021-02-02 16:15:10,280 : INFO : estimated required memory for 120 words and 300 dimensions: 348000 bytes\n",
      "2021-02-02 16:15:10,281 : INFO : resetting layer weights\n"
     ]
    }
   ],
   "source": [
    "w2v_model.build_vocab(documents)"
   ]
  },
  {
   "cell_type": "code",
   "execution_count": 320,
   "metadata": {
    "colab": {
     "base_uri": "https://localhost:8080/"
    },
    "executionInfo": {
     "elapsed": 1007,
     "status": "ok",
     "timestamp": 1611122321212,
     "user": {
      "displayName": "ペラバンシャン Ｂ",
      "photoUrl": "",
      "userId": "09007282872278050769"
     },
     "user_tz": -420
    },
    "id": "hHM5CscNX2qf",
    "outputId": "53748283-7c91-47d1-ea9b-0594c3659a3a"
   },
   "outputs": [
    {
     "name": "stdout",
     "output_type": "stream",
     "text": [
      "Vocab size 120\n"
     ]
    }
   ],
   "source": [
    "words = w2v_model.wv.vocab.keys()\n",
    "vocab_size = len(words)\n",
    "print(\"Vocab size\", vocab_size)"
   ]
  },
  {
   "cell_type": "code",
   "execution_count": 321,
   "metadata": {
    "colab": {
     "base_uri": "https://localhost:8080/"
    },
    "executionInfo": {
     "elapsed": 2026,
     "status": "ok",
     "timestamp": 1611122332120,
     "user": {
      "displayName": "ペラバンシャン Ｂ",
      "photoUrl": "",
      "userId": "09007282872278050769"
     },
     "user_tz": -420
    },
    "id": "Mt4uagObX6Mn",
    "outputId": "9ff0ed32-3447-4d3c-fd24-6662cb4f8626"
   },
   "outputs": [
    {
     "name": "stderr",
     "output_type": "stream",
     "text": [
      "2021-02-02 16:15:10,730 : INFO : training model with 8 workers on 120 vocabulary and 300 features, using sg=0 hs=0 sample=0.001 negative=5 window=7\n",
      "2021-02-02 16:15:10,734 : INFO : worker thread finished; awaiting finish of 7 more threads\n",
      "2021-02-02 16:15:10,735 : INFO : worker thread finished; awaiting finish of 6 more threads\n",
      "2021-02-02 16:15:10,736 : INFO : worker thread finished; awaiting finish of 5 more threads\n",
      "2021-02-02 16:15:10,737 : INFO : worker thread finished; awaiting finish of 4 more threads\n",
      "2021-02-02 16:15:10,737 : INFO : worker thread finished; awaiting finish of 3 more threads\n",
      "2021-02-02 16:15:10,737 : INFO : worker thread finished; awaiting finish of 2 more threads\n",
      "2021-02-02 16:15:10,738 : INFO : worker thread finished; awaiting finish of 1 more threads\n",
      "2021-02-02 16:15:10,738 : INFO : worker thread finished; awaiting finish of 0 more threads\n",
      "2021-02-02 16:15:10,739 : INFO : EPOCH - 1 : training on 3061 raw words (565 effective words) took 0.0s, 106203 effective words/s\n",
      "2021-02-02 16:15:10,742 : INFO : worker thread finished; awaiting finish of 7 more threads\n",
      "2021-02-02 16:15:10,743 : INFO : worker thread finished; awaiting finish of 6 more threads\n",
      "2021-02-02 16:15:10,744 : INFO : worker thread finished; awaiting finish of 5 more threads\n",
      "2021-02-02 16:15:10,744 : INFO : worker thread finished; awaiting finish of 4 more threads\n",
      "2021-02-02 16:15:10,744 : INFO : worker thread finished; awaiting finish of 3 more threads\n",
      "2021-02-02 16:15:10,745 : INFO : worker thread finished; awaiting finish of 2 more threads\n",
      "2021-02-02 16:15:10,745 : INFO : worker thread finished; awaiting finish of 1 more threads\n",
      "2021-02-02 16:15:10,746 : INFO : worker thread finished; awaiting finish of 0 more threads\n",
      "2021-02-02 16:15:10,746 : INFO : EPOCH - 2 : training on 3061 raw words (597 effective words) took 0.0s, 143935 effective words/s\n",
      "2021-02-02 16:15:10,750 : INFO : worker thread finished; awaiting finish of 7 more threads\n",
      "2021-02-02 16:15:10,750 : INFO : worker thread finished; awaiting finish of 6 more threads\n",
      "2021-02-02 16:15:10,751 : INFO : worker thread finished; awaiting finish of 5 more threads\n",
      "2021-02-02 16:15:10,751 : INFO : worker thread finished; awaiting finish of 4 more threads\n",
      "2021-02-02 16:15:10,752 : INFO : worker thread finished; awaiting finish of 3 more threads\n",
      "2021-02-02 16:15:10,752 : INFO : worker thread finished; awaiting finish of 2 more threads\n",
      "2021-02-02 16:15:10,753 : INFO : worker thread finished; awaiting finish of 1 more threads\n",
      "2021-02-02 16:15:10,753 : INFO : worker thread finished; awaiting finish of 0 more threads\n",
      "2021-02-02 16:15:10,754 : INFO : EPOCH - 3 : training on 3061 raw words (575 effective words) took 0.0s, 118403 effective words/s\n",
      "2021-02-02 16:15:10,758 : INFO : worker thread finished; awaiting finish of 7 more threads\n",
      "2021-02-02 16:15:10,758 : INFO : worker thread finished; awaiting finish of 6 more threads\n",
      "2021-02-02 16:15:10,759 : INFO : worker thread finished; awaiting finish of 5 more threads\n",
      "2021-02-02 16:15:10,759 : INFO : worker thread finished; awaiting finish of 4 more threads\n",
      "2021-02-02 16:15:10,760 : INFO : worker thread finished; awaiting finish of 3 more threads\n",
      "2021-02-02 16:15:10,760 : INFO : worker thread finished; awaiting finish of 2 more threads\n",
      "2021-02-02 16:15:10,760 : INFO : worker thread finished; awaiting finish of 1 more threads\n",
      "2021-02-02 16:15:10,761 : INFO : worker thread finished; awaiting finish of 0 more threads\n",
      "2021-02-02 16:15:10,761 : INFO : EPOCH - 4 : training on 3061 raw words (571 effective words) took 0.0s, 142656 effective words/s\n",
      "2021-02-02 16:15:10,765 : INFO : worker thread finished; awaiting finish of 7 more threads\n",
      "2021-02-02 16:15:10,765 : INFO : worker thread finished; awaiting finish of 6 more threads\n",
      "2021-02-02 16:15:10,766 : INFO : worker thread finished; awaiting finish of 5 more threads\n",
      "2021-02-02 16:15:10,766 : INFO : worker thread finished; awaiting finish of 4 more threads\n",
      "2021-02-02 16:15:10,767 : INFO : worker thread finished; awaiting finish of 3 more threads\n",
      "2021-02-02 16:15:10,767 : INFO : worker thread finished; awaiting finish of 2 more threads\n",
      "2021-02-02 16:15:10,767 : INFO : worker thread finished; awaiting finish of 1 more threads\n",
      "2021-02-02 16:15:10,768 : INFO : worker thread finished; awaiting finish of 0 more threads\n",
      "2021-02-02 16:15:10,768 : INFO : EPOCH - 5 : training on 3061 raw words (591 effective words) took 0.0s, 143880 effective words/s\n",
      "2021-02-02 16:15:10,772 : INFO : worker thread finished; awaiting finish of 7 more threads\n",
      "2021-02-02 16:15:10,772 : INFO : worker thread finished; awaiting finish of 6 more threads\n",
      "2021-02-02 16:15:10,773 : INFO : worker thread finished; awaiting finish of 5 more threads\n",
      "2021-02-02 16:15:10,773 : INFO : worker thread finished; awaiting finish of 4 more threads\n",
      "2021-02-02 16:15:10,774 : INFO : worker thread finished; awaiting finish of 3 more threads\n",
      "2021-02-02 16:15:10,774 : INFO : worker thread finished; awaiting finish of 2 more threads\n",
      "2021-02-02 16:15:10,775 : INFO : worker thread finished; awaiting finish of 1 more threads\n",
      "2021-02-02 16:15:10,775 : INFO : worker thread finished; awaiting finish of 0 more threads\n",
      "2021-02-02 16:15:10,775 : INFO : EPOCH - 6 : training on 3061 raw words (578 effective words) took 0.0s, 124968 effective words/s\n",
      "2021-02-02 16:15:10,779 : INFO : worker thread finished; awaiting finish of 7 more threads\n",
      "2021-02-02 16:15:10,780 : INFO : worker thread finished; awaiting finish of 6 more threads\n",
      "2021-02-02 16:15:10,780 : INFO : worker thread finished; awaiting finish of 5 more threads\n",
      "2021-02-02 16:15:10,781 : INFO : worker thread finished; awaiting finish of 4 more threads\n",
      "2021-02-02 16:15:10,781 : INFO : worker thread finished; awaiting finish of 3 more threads\n",
      "2021-02-02 16:15:10,781 : INFO : worker thread finished; awaiting finish of 2 more threads\n",
      "2021-02-02 16:15:10,782 : INFO : worker thread finished; awaiting finish of 1 more threads\n",
      "2021-02-02 16:15:10,782 : INFO : worker thread finished; awaiting finish of 0 more threads\n",
      "2021-02-02 16:15:10,783 : INFO : EPOCH - 7 : training on 3061 raw words (597 effective words) took 0.0s, 135297 effective words/s\n",
      "2021-02-02 16:15:10,787 : INFO : worker thread finished; awaiting finish of 7 more threads\n",
      "2021-02-02 16:15:10,788 : INFO : worker thread finished; awaiting finish of 6 more threads\n",
      "2021-02-02 16:15:10,788 : INFO : worker thread finished; awaiting finish of 5 more threads\n",
      "2021-02-02 16:15:10,788 : INFO : worker thread finished; awaiting finish of 4 more threads\n",
      "2021-02-02 16:15:10,789 : INFO : worker thread finished; awaiting finish of 3 more threads\n",
      "2021-02-02 16:15:10,789 : INFO : worker thread finished; awaiting finish of 2 more threads\n",
      "2021-02-02 16:15:10,789 : INFO : worker thread finished; awaiting finish of 1 more threads\n",
      "2021-02-02 16:15:10,790 : INFO : worker thread finished; awaiting finish of 0 more threads\n",
      "2021-02-02 16:15:10,790 : INFO : EPOCH - 8 : training on 3061 raw words (586 effective words) took 0.0s, 151130 effective words/s\n",
      "2021-02-02 16:15:10,794 : INFO : worker thread finished; awaiting finish of 7 more threads\n",
      "2021-02-02 16:15:10,794 : INFO : worker thread finished; awaiting finish of 6 more threads\n",
      "2021-02-02 16:15:10,795 : INFO : worker thread finished; awaiting finish of 5 more threads\n",
      "2021-02-02 16:15:10,795 : INFO : worker thread finished; awaiting finish of 4 more threads\n",
      "2021-02-02 16:15:10,796 : INFO : worker thread finished; awaiting finish of 3 more threads\n",
      "2021-02-02 16:15:10,796 : INFO : worker thread finished; awaiting finish of 2 more threads\n",
      "2021-02-02 16:15:10,796 : INFO : worker thread finished; awaiting finish of 1 more threads\n",
      "2021-02-02 16:15:10,797 : INFO : worker thread finished; awaiting finish of 0 more threads\n",
      "2021-02-02 16:15:10,797 : INFO : EPOCH - 9 : training on 3061 raw words (617 effective words) took 0.0s, 150263 effective words/s\n",
      "2021-02-02 16:15:10,800 : INFO : worker thread finished; awaiting finish of 7 more threads\n",
      "2021-02-02 16:15:10,801 : INFO : worker thread finished; awaiting finish of 6 more threads\n",
      "2021-02-02 16:15:10,801 : INFO : worker thread finished; awaiting finish of 5 more threads\n",
      "2021-02-02 16:15:10,802 : INFO : worker thread finished; awaiting finish of 4 more threads\n"
     ]
    },
    {
     "name": "stderr",
     "output_type": "stream",
     "text": [
      "2021-02-02 16:15:10,803 : INFO : worker thread finished; awaiting finish of 3 more threads\n",
      "2021-02-02 16:15:10,803 : INFO : worker thread finished; awaiting finish of 2 more threads\n",
      "2021-02-02 16:15:10,803 : INFO : worker thread finished; awaiting finish of 1 more threads\n",
      "2021-02-02 16:15:10,804 : INFO : worker thread finished; awaiting finish of 0 more threads\n",
      "2021-02-02 16:15:10,804 : INFO : EPOCH - 10 : training on 3061 raw words (580 effective words) took 0.0s, 128568 effective words/s\n",
      "2021-02-02 16:15:10,808 : INFO : worker thread finished; awaiting finish of 7 more threads\n",
      "2021-02-02 16:15:10,808 : INFO : worker thread finished; awaiting finish of 6 more threads\n",
      "2021-02-02 16:15:10,808 : INFO : worker thread finished; awaiting finish of 5 more threads\n",
      "2021-02-02 16:15:10,809 : INFO : worker thread finished; awaiting finish of 4 more threads\n",
      "2021-02-02 16:15:10,809 : INFO : worker thread finished; awaiting finish of 3 more threads\n",
      "2021-02-02 16:15:10,810 : INFO : worker thread finished; awaiting finish of 2 more threads\n",
      "2021-02-02 16:15:10,810 : INFO : worker thread finished; awaiting finish of 1 more threads\n",
      "2021-02-02 16:15:10,810 : INFO : worker thread finished; awaiting finish of 0 more threads\n",
      "2021-02-02 16:15:10,811 : INFO : EPOCH - 11 : training on 3061 raw words (591 effective words) took 0.0s, 151322 effective words/s\n",
      "2021-02-02 16:15:10,815 : INFO : worker thread finished; awaiting finish of 7 more threads\n",
      "2021-02-02 16:15:10,815 : INFO : worker thread finished; awaiting finish of 6 more threads\n",
      "2021-02-02 16:15:10,816 : INFO : worker thread finished; awaiting finish of 5 more threads\n",
      "2021-02-02 16:15:10,816 : INFO : worker thread finished; awaiting finish of 4 more threads\n",
      "2021-02-02 16:15:10,817 : INFO : worker thread finished; awaiting finish of 3 more threads\n",
      "2021-02-02 16:15:10,817 : INFO : worker thread finished; awaiting finish of 2 more threads\n",
      "2021-02-02 16:15:10,817 : INFO : worker thread finished; awaiting finish of 1 more threads\n",
      "2021-02-02 16:15:10,818 : INFO : worker thread finished; awaiting finish of 0 more threads\n",
      "2021-02-02 16:15:10,818 : INFO : EPOCH - 12 : training on 3061 raw words (597 effective words) took 0.0s, 137220 effective words/s\n",
      "2021-02-02 16:15:10,822 : INFO : worker thread finished; awaiting finish of 7 more threads\n",
      "2021-02-02 16:15:10,823 : INFO : worker thread finished; awaiting finish of 6 more threads\n",
      "2021-02-02 16:15:10,823 : INFO : worker thread finished; awaiting finish of 5 more threads\n",
      "2021-02-02 16:15:10,824 : INFO : worker thread finished; awaiting finish of 4 more threads\n",
      "2021-02-02 16:15:10,825 : INFO : worker thread finished; awaiting finish of 3 more threads\n",
      "2021-02-02 16:15:10,825 : INFO : worker thread finished; awaiting finish of 2 more threads\n",
      "2021-02-02 16:15:10,826 : INFO : worker thread finished; awaiting finish of 1 more threads\n",
      "2021-02-02 16:15:10,826 : INFO : worker thread finished; awaiting finish of 0 more threads\n",
      "2021-02-02 16:15:10,827 : INFO : EPOCH - 13 : training on 3061 raw words (608 effective words) took 0.0s, 113310 effective words/s\n",
      "2021-02-02 16:15:10,831 : INFO : worker thread finished; awaiting finish of 7 more threads\n",
      "2021-02-02 16:15:10,832 : INFO : worker thread finished; awaiting finish of 6 more threads\n",
      "2021-02-02 16:15:10,832 : INFO : worker thread finished; awaiting finish of 5 more threads\n",
      "2021-02-02 16:15:10,833 : INFO : worker thread finished; awaiting finish of 4 more threads\n",
      "2021-02-02 16:15:10,833 : INFO : worker thread finished; awaiting finish of 3 more threads\n",
      "2021-02-02 16:15:10,834 : INFO : worker thread finished; awaiting finish of 2 more threads\n",
      "2021-02-02 16:15:10,834 : INFO : worker thread finished; awaiting finish of 1 more threads\n",
      "2021-02-02 16:15:10,835 : INFO : worker thread finished; awaiting finish of 0 more threads\n",
      "2021-02-02 16:15:10,835 : INFO : EPOCH - 14 : training on 3061 raw words (566 effective words) took 0.0s, 116761 effective words/s\n",
      "2021-02-02 16:15:10,839 : INFO : worker thread finished; awaiting finish of 7 more threads\n",
      "2021-02-02 16:15:10,840 : INFO : worker thread finished; awaiting finish of 6 more threads\n",
      "2021-02-02 16:15:10,840 : INFO : worker thread finished; awaiting finish of 5 more threads\n",
      "2021-02-02 16:15:10,841 : INFO : worker thread finished; awaiting finish of 4 more threads\n",
      "2021-02-02 16:15:10,841 : INFO : worker thread finished; awaiting finish of 3 more threads\n",
      "2021-02-02 16:15:10,842 : INFO : worker thread finished; awaiting finish of 2 more threads\n",
      "2021-02-02 16:15:10,842 : INFO : worker thread finished; awaiting finish of 1 more threads\n",
      "2021-02-02 16:15:10,842 : INFO : worker thread finished; awaiting finish of 0 more threads\n",
      "2021-02-02 16:15:10,843 : INFO : EPOCH - 15 : training on 3061 raw words (605 effective words) took 0.0s, 135192 effective words/s\n",
      "2021-02-02 16:15:10,846 : INFO : worker thread finished; awaiting finish of 7 more threads\n",
      "2021-02-02 16:15:10,847 : INFO : worker thread finished; awaiting finish of 6 more threads\n",
      "2021-02-02 16:15:10,848 : INFO : worker thread finished; awaiting finish of 5 more threads\n",
      "2021-02-02 16:15:10,848 : INFO : worker thread finished; awaiting finish of 4 more threads\n",
      "2021-02-02 16:15:10,848 : INFO : worker thread finished; awaiting finish of 3 more threads\n",
      "2021-02-02 16:15:10,849 : INFO : worker thread finished; awaiting finish of 2 more threads\n",
      "2021-02-02 16:15:10,849 : INFO : worker thread finished; awaiting finish of 1 more threads\n",
      "2021-02-02 16:15:10,850 : INFO : worker thread finished; awaiting finish of 0 more threads\n",
      "2021-02-02 16:15:10,850 : INFO : EPOCH - 16 : training on 3061 raw words (600 effective words) took 0.0s, 134269 effective words/s\n",
      "2021-02-02 16:15:10,855 : INFO : worker thread finished; awaiting finish of 7 more threads\n",
      "2021-02-02 16:15:10,855 : INFO : worker thread finished; awaiting finish of 6 more threads\n",
      "2021-02-02 16:15:10,856 : INFO : worker thread finished; awaiting finish of 5 more threads\n",
      "2021-02-02 16:15:10,856 : INFO : worker thread finished; awaiting finish of 4 more threads\n",
      "2021-02-02 16:15:10,857 : INFO : worker thread finished; awaiting finish of 3 more threads\n",
      "2021-02-02 16:15:10,857 : INFO : worker thread finished; awaiting finish of 2 more threads\n",
      "2021-02-02 16:15:10,857 : INFO : worker thread finished; awaiting finish of 1 more threads\n",
      "2021-02-02 16:15:10,858 : INFO : worker thread finished; awaiting finish of 0 more threads\n",
      "2021-02-02 16:15:10,858 : INFO : EPOCH - 17 : training on 3061 raw words (602 effective words) took 0.0s, 158773 effective words/s\n",
      "2021-02-02 16:15:10,862 : INFO : worker thread finished; awaiting finish of 7 more threads\n",
      "2021-02-02 16:15:10,863 : INFO : worker thread finished; awaiting finish of 6 more threads\n",
      "2021-02-02 16:15:10,863 : INFO : worker thread finished; awaiting finish of 5 more threads\n",
      "2021-02-02 16:15:10,863 : INFO : worker thread finished; awaiting finish of 4 more threads\n",
      "2021-02-02 16:15:10,864 : INFO : worker thread finished; awaiting finish of 3 more threads\n",
      "2021-02-02 16:15:10,864 : INFO : worker thread finished; awaiting finish of 2 more threads\n",
      "2021-02-02 16:15:10,864 : INFO : worker thread finished; awaiting finish of 1 more threads\n",
      "2021-02-02 16:15:10,865 : INFO : worker thread finished; awaiting finish of 0 more threads\n",
      "2021-02-02 16:15:10,865 : INFO : EPOCH - 18 : training on 3061 raw words (575 effective words) took 0.0s, 205630 effective words/s\n",
      "2021-02-02 16:15:10,868 : INFO : worker thread finished; awaiting finish of 7 more threads\n",
      "2021-02-02 16:15:10,869 : INFO : worker thread finished; awaiting finish of 6 more threads\n",
      "2021-02-02 16:15:10,869 : INFO : worker thread finished; awaiting finish of 5 more threads\n",
      "2021-02-02 16:15:10,870 : INFO : worker thread finished; awaiting finish of 4 more threads\n",
      "2021-02-02 16:15:10,870 : INFO : worker thread finished; awaiting finish of 3 more threads\n",
      "2021-02-02 16:15:10,870 : INFO : worker thread finished; awaiting finish of 2 more threads\n",
      "2021-02-02 16:15:10,871 : INFO : worker thread finished; awaiting finish of 1 more threads\n",
      "2021-02-02 16:15:10,871 : INFO : worker thread finished; awaiting finish of 0 more threads\n",
      "2021-02-02 16:15:10,872 : INFO : EPOCH - 19 : training on 3061 raw words (606 effective words) took 0.0s, 149465 effective words/s\n"
     ]
    },
    {
     "name": "stderr",
     "output_type": "stream",
     "text": [
      "2021-02-02 16:15:10,875 : INFO : worker thread finished; awaiting finish of 7 more threads\n",
      "2021-02-02 16:15:10,876 : INFO : worker thread finished; awaiting finish of 6 more threads\n",
      "2021-02-02 16:15:10,876 : INFO : worker thread finished; awaiting finish of 5 more threads\n",
      "2021-02-02 16:15:10,877 : INFO : worker thread finished; awaiting finish of 4 more threads\n",
      "2021-02-02 16:15:10,877 : INFO : worker thread finished; awaiting finish of 3 more threads\n",
      "2021-02-02 16:15:10,877 : INFO : worker thread finished; awaiting finish of 2 more threads\n",
      "2021-02-02 16:15:10,878 : INFO : worker thread finished; awaiting finish of 1 more threads\n",
      "2021-02-02 16:15:10,878 : INFO : worker thread finished; awaiting finish of 0 more threads\n",
      "2021-02-02 16:15:10,878 : INFO : EPOCH - 20 : training on 3061 raw words (594 effective words) took 0.0s, 149889 effective words/s\n",
      "2021-02-02 16:15:10,882 : INFO : worker thread finished; awaiting finish of 7 more threads\n",
      "2021-02-02 16:15:10,883 : INFO : worker thread finished; awaiting finish of 6 more threads\n",
      "2021-02-02 16:15:10,884 : INFO : worker thread finished; awaiting finish of 5 more threads\n",
      "2021-02-02 16:15:10,884 : INFO : worker thread finished; awaiting finish of 4 more threads\n",
      "2021-02-02 16:15:10,885 : INFO : worker thread finished; awaiting finish of 3 more threads\n",
      "2021-02-02 16:15:10,885 : INFO : worker thread finished; awaiting finish of 2 more threads\n",
      "2021-02-02 16:15:10,886 : INFO : worker thread finished; awaiting finish of 1 more threads\n",
      "2021-02-02 16:15:10,886 : INFO : worker thread finished; awaiting finish of 0 more threads\n",
      "2021-02-02 16:15:10,886 : INFO : EPOCH - 21 : training on 3061 raw words (568 effective words) took 0.0s, 118287 effective words/s\n",
      "2021-02-02 16:15:10,890 : INFO : worker thread finished; awaiting finish of 7 more threads\n",
      "2021-02-02 16:15:10,891 : INFO : worker thread finished; awaiting finish of 6 more threads\n",
      "2021-02-02 16:15:10,892 : INFO : worker thread finished; awaiting finish of 5 more threads\n",
      "2021-02-02 16:15:10,892 : INFO : worker thread finished; awaiting finish of 4 more threads\n",
      "2021-02-02 16:15:10,892 : INFO : worker thread finished; awaiting finish of 3 more threads\n",
      "2021-02-02 16:15:10,893 : INFO : worker thread finished; awaiting finish of 2 more threads\n",
      "2021-02-02 16:15:10,893 : INFO : worker thread finished; awaiting finish of 1 more threads\n",
      "2021-02-02 16:15:10,893 : INFO : worker thread finished; awaiting finish of 0 more threads\n",
      "2021-02-02 16:15:10,894 : INFO : EPOCH - 22 : training on 3061 raw words (595 effective words) took 0.0s, 134392 effective words/s\n",
      "2021-02-02 16:15:10,897 : INFO : worker thread finished; awaiting finish of 7 more threads\n",
      "2021-02-02 16:15:10,898 : INFO : worker thread finished; awaiting finish of 6 more threads\n",
      "2021-02-02 16:15:10,898 : INFO : worker thread finished; awaiting finish of 5 more threads\n",
      "2021-02-02 16:15:10,898 : INFO : worker thread finished; awaiting finish of 4 more threads\n",
      "2021-02-02 16:15:10,899 : INFO : worker thread finished; awaiting finish of 3 more threads\n",
      "2021-02-02 16:15:10,899 : INFO : worker thread finished; awaiting finish of 2 more threads\n",
      "2021-02-02 16:15:10,899 : INFO : worker thread finished; awaiting finish of 1 more threads\n",
      "2021-02-02 16:15:10,900 : INFO : worker thread finished; awaiting finish of 0 more threads\n",
      "2021-02-02 16:15:10,900 : INFO : EPOCH - 23 : training on 3061 raw words (604 effective words) took 0.0s, 159582 effective words/s\n",
      "2021-02-02 16:15:10,904 : INFO : worker thread finished; awaiting finish of 7 more threads\n",
      "2021-02-02 16:15:10,904 : INFO : worker thread finished; awaiting finish of 6 more threads\n",
      "2021-02-02 16:15:10,904 : INFO : worker thread finished; awaiting finish of 5 more threads\n",
      "2021-02-02 16:15:10,905 : INFO : worker thread finished; awaiting finish of 4 more threads\n",
      "2021-02-02 16:15:10,905 : INFO : worker thread finished; awaiting finish of 3 more threads\n",
      "2021-02-02 16:15:10,905 : INFO : worker thread finished; awaiting finish of 2 more threads\n",
      "2021-02-02 16:15:10,906 : INFO : worker thread finished; awaiting finish of 1 more threads\n",
      "2021-02-02 16:15:10,906 : INFO : worker thread finished; awaiting finish of 0 more threads\n",
      "2021-02-02 16:15:10,906 : INFO : EPOCH - 24 : training on 3061 raw words (584 effective words) took 0.0s, 169660 effective words/s\n",
      "2021-02-02 16:15:10,909 : INFO : worker thread finished; awaiting finish of 7 more threads\n",
      "2021-02-02 16:15:10,910 : INFO : worker thread finished; awaiting finish of 6 more threads\n",
      "2021-02-02 16:15:10,910 : INFO : worker thread finished; awaiting finish of 5 more threads\n",
      "2021-02-02 16:15:10,911 : INFO : worker thread finished; awaiting finish of 4 more threads\n",
      "2021-02-02 16:15:10,911 : INFO : worker thread finished; awaiting finish of 3 more threads\n",
      "2021-02-02 16:15:10,911 : INFO : worker thread finished; awaiting finish of 2 more threads\n",
      "2021-02-02 16:15:10,912 : INFO : worker thread finished; awaiting finish of 1 more threads\n",
      "2021-02-02 16:15:10,912 : INFO : worker thread finished; awaiting finish of 0 more threads\n",
      "2021-02-02 16:15:10,912 : INFO : EPOCH - 25 : training on 3061 raw words (594 effective words) took 0.0s, 151831 effective words/s\n",
      "2021-02-02 16:15:10,916 : INFO : worker thread finished; awaiting finish of 7 more threads\n",
      "2021-02-02 16:15:10,917 : INFO : worker thread finished; awaiting finish of 6 more threads\n",
      "2021-02-02 16:15:10,917 : INFO : worker thread finished; awaiting finish of 5 more threads\n",
      "2021-02-02 16:15:10,917 : INFO : worker thread finished; awaiting finish of 4 more threads\n",
      "2021-02-02 16:15:10,918 : INFO : worker thread finished; awaiting finish of 3 more threads\n",
      "2021-02-02 16:15:10,918 : INFO : worker thread finished; awaiting finish of 2 more threads\n",
      "2021-02-02 16:15:10,919 : INFO : worker thread finished; awaiting finish of 1 more threads\n",
      "2021-02-02 16:15:10,919 : INFO : worker thread finished; awaiting finish of 0 more threads\n",
      "2021-02-02 16:15:10,919 : INFO : EPOCH - 26 : training on 3061 raw words (565 effective words) took 0.0s, 138931 effective words/s\n",
      "2021-02-02 16:15:10,923 : INFO : worker thread finished; awaiting finish of 7 more threads\n",
      "2021-02-02 16:15:10,923 : INFO : worker thread finished; awaiting finish of 6 more threads\n",
      "2021-02-02 16:15:10,924 : INFO : worker thread finished; awaiting finish of 5 more threads\n",
      "2021-02-02 16:15:10,924 : INFO : worker thread finished; awaiting finish of 4 more threads\n",
      "2021-02-02 16:15:10,925 : INFO : worker thread finished; awaiting finish of 3 more threads\n",
      "2021-02-02 16:15:10,925 : INFO : worker thread finished; awaiting finish of 2 more threads\n",
      "2021-02-02 16:15:10,925 : INFO : worker thread finished; awaiting finish of 1 more threads\n",
      "2021-02-02 16:15:10,926 : INFO : worker thread finished; awaiting finish of 0 more threads\n",
      "2021-02-02 16:15:10,926 : INFO : EPOCH - 27 : training on 3061 raw words (595 effective words) took 0.0s, 138910 effective words/s\n",
      "2021-02-02 16:15:10,930 : INFO : worker thread finished; awaiting finish of 7 more threads\n",
      "2021-02-02 16:15:10,931 : INFO : worker thread finished; awaiting finish of 6 more threads\n",
      "2021-02-02 16:15:10,931 : INFO : worker thread finished; awaiting finish of 5 more threads\n",
      "2021-02-02 16:15:10,931 : INFO : worker thread finished; awaiting finish of 4 more threads\n",
      "2021-02-02 16:15:10,932 : INFO : worker thread finished; awaiting finish of 3 more threads\n",
      "2021-02-02 16:15:10,932 : INFO : worker thread finished; awaiting finish of 2 more threads\n",
      "2021-02-02 16:15:10,933 : INFO : worker thread finished; awaiting finish of 1 more threads\n",
      "2021-02-02 16:15:10,933 : INFO : worker thread finished; awaiting finish of 0 more threads\n",
      "2021-02-02 16:15:10,933 : INFO : EPOCH - 28 : training on 3061 raw words (571 effective words) took 0.0s, 140689 effective words/s\n",
      "2021-02-02 16:15:10,937 : INFO : worker thread finished; awaiting finish of 7 more threads\n",
      "2021-02-02 16:15:10,937 : INFO : worker thread finished; awaiting finish of 6 more threads\n",
      "2021-02-02 16:15:10,938 : INFO : worker thread finished; awaiting finish of 5 more threads\n",
      "2021-02-02 16:15:10,938 : INFO : worker thread finished; awaiting finish of 4 more threads\n",
      "2021-02-02 16:15:10,939 : INFO : worker thread finished; awaiting finish of 3 more threads\n",
      "2021-02-02 16:15:10,939 : INFO : worker thread finished; awaiting finish of 2 more threads\n"
     ]
    },
    {
     "name": "stderr",
     "output_type": "stream",
     "text": [
      "2021-02-02 16:15:10,940 : INFO : worker thread finished; awaiting finish of 1 more threads\n",
      "2021-02-02 16:15:10,940 : INFO : worker thread finished; awaiting finish of 0 more threads\n",
      "2021-02-02 16:15:10,940 : INFO : EPOCH - 29 : training on 3061 raw words (565 effective words) took 0.0s, 135184 effective words/s\n",
      "2021-02-02 16:15:10,944 : INFO : worker thread finished; awaiting finish of 7 more threads\n",
      "2021-02-02 16:15:10,945 : INFO : worker thread finished; awaiting finish of 6 more threads\n",
      "2021-02-02 16:15:10,945 : INFO : worker thread finished; awaiting finish of 5 more threads\n",
      "2021-02-02 16:15:10,945 : INFO : worker thread finished; awaiting finish of 4 more threads\n",
      "2021-02-02 16:15:10,946 : INFO : worker thread finished; awaiting finish of 3 more threads\n",
      "2021-02-02 16:15:10,946 : INFO : worker thread finished; awaiting finish of 2 more threads\n",
      "2021-02-02 16:15:10,946 : INFO : worker thread finished; awaiting finish of 1 more threads\n",
      "2021-02-02 16:15:10,947 : INFO : worker thread finished; awaiting finish of 0 more threads\n",
      "2021-02-02 16:15:10,947 : INFO : EPOCH - 30 : training on 3061 raw words (600 effective words) took 0.0s, 158837 effective words/s\n",
      "2021-02-02 16:15:10,951 : INFO : worker thread finished; awaiting finish of 7 more threads\n",
      "2021-02-02 16:15:10,951 : INFO : worker thread finished; awaiting finish of 6 more threads\n",
      "2021-02-02 16:15:10,952 : INFO : worker thread finished; awaiting finish of 5 more threads\n",
      "2021-02-02 16:15:10,952 : INFO : worker thread finished; awaiting finish of 4 more threads\n",
      "2021-02-02 16:15:10,952 : INFO : worker thread finished; awaiting finish of 3 more threads\n",
      "2021-02-02 16:15:10,953 : INFO : worker thread finished; awaiting finish of 2 more threads\n",
      "2021-02-02 16:15:10,953 : INFO : worker thread finished; awaiting finish of 1 more threads\n",
      "2021-02-02 16:15:10,954 : INFO : worker thread finished; awaiting finish of 0 more threads\n",
      "2021-02-02 16:15:10,954 : INFO : EPOCH - 31 : training on 3061 raw words (591 effective words) took 0.0s, 133573 effective words/s\n",
      "2021-02-02 16:15:10,958 : INFO : worker thread finished; awaiting finish of 7 more threads\n",
      "2021-02-02 16:15:10,959 : INFO : worker thread finished; awaiting finish of 6 more threads\n",
      "2021-02-02 16:15:10,959 : INFO : worker thread finished; awaiting finish of 5 more threads\n",
      "2021-02-02 16:15:10,959 : INFO : worker thread finished; awaiting finish of 4 more threads\n",
      "2021-02-02 16:15:10,960 : INFO : worker thread finished; awaiting finish of 3 more threads\n",
      "2021-02-02 16:15:10,960 : INFO : worker thread finished; awaiting finish of 2 more threads\n",
      "2021-02-02 16:15:10,961 : INFO : worker thread finished; awaiting finish of 1 more threads\n",
      "2021-02-02 16:15:10,961 : INFO : worker thread finished; awaiting finish of 0 more threads\n",
      "2021-02-02 16:15:10,961 : INFO : EPOCH - 32 : training on 3061 raw words (584 effective words) took 0.0s, 143117 effective words/s\n",
      "2021-02-02 16:15:10,962 : INFO : training on a 97952 raw words (18817 effective words) took 0.2s, 81572 effective words/s\n",
      "2021-02-02 16:15:10,963 : WARNING : under 10 jobs per worker: consider setting a smaller `batch_words' for smoother alpha decay\n"
     ]
    },
    {
     "data": {
      "text/plain": [
       "(18817, 97952)"
      ]
     },
     "execution_count": 321,
     "metadata": {},
     "output_type": "execute_result"
    }
   ],
   "source": [
    "w2v_model.train(documents, total_examples=len(documents), epochs=W2V_EPOCH)"
   ]
  },
  {
   "cell_type": "code",
   "execution_count": 326,
   "metadata": {
    "colab": {
     "base_uri": "https://localhost:8080/"
    },
    "executionInfo": {
     "elapsed": 1213,
     "status": "ok",
     "timestamp": 1611122369109,
     "user": {
      "displayName": "ペラバンシャン Ｂ",
      "photoUrl": "",
      "userId": "09007282872278050769"
     },
     "user_tz": -420
    },
    "id": "sxkBvXyINjlt",
    "outputId": "3a11b42c-2075-47a4-c97b-a910a28a5402"
   },
   "outputs": [
    {
     "data": {
      "text/plain": [
       "[('host', 0.9996014833450317),\n",
       " ('nia', 0.9995881915092468),\n",
       " ('gak', 0.9995589852333069),\n",
       " ('kupas', 0.9995568990707397),\n",
       " ('pinter', 0.9995520710945129),\n",
       " ('dewi', 0.99955153465271),\n",
       " ('pas', 0.9995356798171997),\n",
       " ('org', 0.9995273351669312),\n",
       " ('ngehost', 0.9995207786560059),\n",
       " ('tp', 0.9995201826095581)]"
      ]
     },
     "execution_count": 326,
     "metadata": {},
     "output_type": "execute_result"
    }
   ],
   "source": [
    "w2v_model.wv.most_similar(\"attitude\")\n",
    "#wv.most_similar()"
   ]
  },
  {
   "cell_type": "code",
   "execution_count": 308,
   "metadata": {},
   "outputs": [
    {
     "data": {
      "text/plain": [
       "{'g': <gensim.models.keyedvectors.Vocab at 0x7efe884720b8>,\n",
       " 'pilih': <gensim.models.keyedvectors.Vocab at 0x7efe88472320>,\n",
       " 'host': <gensim.models.keyedvectors.Vocab at 0x7efe86bf79e8>,\n",
       " 'pas': <gensim.models.keyedvectors.Vocab at 0x7efe8816fcf8>,\n",
       " 'bukan': <gensim.models.keyedvectors.Vocab at 0x7efe8816f978>,\n",
       " 'cantik': <gensim.models.keyedvectors.Vocab at 0x7efe880f6ef0>,\n",
       " 'otak': <gensim.models.keyedvectors.Vocab at 0x7efe880f6ac8>,\n",
       " 'smart': <gensim.models.keyedvectors.Vocab at 0x7efe880f6a90>,\n",
       " 'banget': <gensim.models.keyedvectors.Vocab at 0x7efe880f6278>,\n",
       " 'nia': <gensim.models.keyedvectors.Vocab at 0x7efe880f6240>,\n",
       " 'keliatan': <gensim.models.keyedvectors.Vocab at 0x7efe880f6da0>,\n",
       " 'mending': <gensim.models.keyedvectors.Vocab at 0x7efe880f6a58>,\n",
       " 'belajar': <gensim.models.keyedvectors.Vocab at 0x7efe880f67b8>,\n",
       " 'jgn': <gensim.models.keyedvectors.Vocab at 0x7efe880f6b38>,\n",
       " 'pamer': <gensim.models.keyedvectors.Vocab at 0x7efe880f6630>,\n",
       " 'sok': <gensim.models.keyedvectors.Vocab at 0x7efe880f65f8>,\n",
       " 'gt': <gensim.models.keyedvectors.Vocab at 0x7efe880f6438>,\n",
       " 'kelas': <gensim.models.keyedvectors.Vocab at 0x7efe880f6c18>,\n",
       " 'sekolah': <gensim.models.keyedvectors.Vocab at 0x7efe880f6e80>,\n",
       " 'indonesia': <gensim.models.keyedvectors.Vocab at 0x7efe880f6eb8>,\n",
       " 'tu': <gensim.models.keyedvectors.Vocab at 0x7efe880dd048>,\n",
       " 'lapindo': <gensim.models.keyedvectors.Vocab at 0x7efe880dda58>,\n",
       " 'kekayaan': <gensim.models.keyedvectors.Vocab at 0x7efe880ddda0>,\n",
       " 'knp': <gensim.models.keyedvectors.Vocab at 0x7efe880dd518>,\n",
       " 'ayu': <gensim.models.keyedvectors.Vocab at 0x7efe880ddc88>,\n",
       " 'dewi': <gensim.models.keyedvectors.Vocab at 0x7efe880ddf98>,\n",
       " 'si': <gensim.models.keyedvectors.Vocab at 0x7efe880dd320>,\n",
       " 'cocok': <gensim.models.keyedvectors.Vocab at 0x7efe880ddb70>,\n",
       " 'rafi': <gensim.models.keyedvectors.Vocab at 0x7efe880dd550>,\n",
       " 'ahmad': <gensim.models.keyedvectors.Vocab at 0x7efe880ddf28>,\n",
       " 'gk': <gensim.models.keyedvectors.Vocab at 0x7efe880dd1d0>,\n",
       " 'doank': <gensim.models.keyedvectors.Vocab at 0x7efe880dd400>,\n",
       " 'nge': <gensim.models.keyedvectors.Vocab at 0x7efe880dd438>,\n",
       " 'orang': <gensim.models.keyedvectors.Vocab at 0x7efe880ddef0>,\n",
       " 'ngomong': <gensim.models.keyedvectors.Vocab at 0x7efe880dd6d8>,\n",
       " 'omongan': <gensim.models.keyedvectors.Vocab at 0x7efe880dd2b0>,\n",
       " 'raffi': <gensim.models.keyedvectors.Vocab at 0x7efe880dddd8>,\n",
       " 'pdhl': <gensim.models.keyedvectors.Vocab at 0x7efe880dd198>,\n",
       " 'mc': <gensim.models.keyedvectors.Vocab at 0x7efe880dda20>,\n",
       " 'pinter': <gensim.models.keyedvectors.Vocab at 0x7efe880dd9e8>,\n",
       " 'tp': <gensim.models.keyedvectors.Vocab at 0x7efe880dde48>,\n",
       " 'pake': <gensim.models.keyedvectors.Vocab at 0x7efe880ddbe0>,\n",
       " 'kaya': <gensim.models.keyedvectors.Vocab at 0x7efe880ddfd0>,\n",
       " 'ya': <gensim.models.keyedvectors.Vocab at 0x7efe880dd668>,\n",
       " 'bikin': <gensim.models.keyedvectors.Vocab at 0x7efe880dd5f8>,\n",
       " 'sm': <gensim.models.keyedvectors.Vocab at 0x7efe880dd0f0>,\n",
       " 'body': <gensim.models.keyedvectors.Vocab at 0x7efe880dd748>,\n",
       " 'malu': <gensim.models.keyedvectors.Vocab at 0x7efe880dd390>,\n",
       " 'bgt': <gensim.models.keyedvectors.Vocab at 0x7efe880dd128>,\n",
       " 'liat': <gensim.models.keyedvectors.Vocab at 0x7efe880dd6a0>,\n",
       " 'sandra': <gensim.models.keyedvectors.Vocab at 0x7efe880ddb00>,\n",
       " 'gak': <gensim.models.keyedvectors.Vocab at 0x7efe880dd208>,\n",
       " 'nyaman': <gensim.models.keyedvectors.Vocab at 0x7efe880dd7b8>,\n",
       " 'liatnya': <gensim.models.keyedvectors.Vocab at 0x7efe880dd240>,\n",
       " 'tuh': <gensim.models.keyedvectors.Vocab at 0x7efe880dd470>,\n",
       " 'baju': <gensim.models.keyedvectors.Vocab at 0x7efe880dd780>,\n",
       " 'kl': <gensim.models.keyedvectors.Vocab at 0x7efe880dd630>,\n",
       " 'lihat': <gensim.models.keyedvectors.Vocab at 0x7efe880ddd30>,\n",
       " 'doang': <gensim.models.keyedvectors.Vocab at 0x7efe880dda90>,\n",
       " 'profesional': <gensim.models.keyedvectors.Vocab at 0x7efe86bd80f0>,\n",
       " 'emang': <gensim.models.keyedvectors.Vocab at 0x7efe86bd8d30>,\n",
       " 'salah': <gensim.models.keyedvectors.Vocab at 0x7efe86bd8358>,\n",
       " 'acara': <gensim.models.keyedvectors.Vocab at 0x7efe86bd87b8>,\n",
       " 'bagus': <gensim.models.keyedvectors.Vocab at 0x7efe86bd8a20>,\n",
       " 'ma': <gensim.models.keyedvectors.Vocab at 0x7efe86bd8438>,\n",
       " 'ngomongnya': <gensim.models.keyedvectors.Vocab at 0x7efe86bd8e48>,\n",
       " 'ky': <gensim.models.keyedvectors.Vocab at 0x7efe86bd8748>,\n",
       " 'sdh': <gensim.models.keyedvectors.Vocab at 0x7efe86bd8ac8>,\n",
       " 'briefing': <gensim.models.keyedvectors.Vocab at 0x7efe86bd8c88>,\n",
       " 'bajunya': <gensim.models.keyedvectors.Vocab at 0x7efe86bd8198>,\n",
       " 'ribet': <gensim.models.keyedvectors.Vocab at 0x7efe86bd8278>,\n",
       " 'gue': <gensim.models.keyedvectors.Vocab at 0x7efe86bd89b0>,\n",
       " 'aneh': <gensim.models.keyedvectors.Vocab at 0x7efe86bd8b00>,\n",
       " 'gua': <gensim.models.keyedvectors.Vocab at 0x7efe86bd83c8>,\n",
       " 'acaranya': <gensim.models.keyedvectors.Vocab at 0x7efe86bd8390>,\n",
       " 'gitu': <gensim.models.keyedvectors.Vocab at 0x7efe86bd8e10>,\n",
       " 'nyambung': <gensim.models.keyedvectors.Vocab at 0x7efe86bd82b0>,\n",
       " 'raya': <gensim.models.keyedvectors.Vocab at 0x7efe86bd8cc0>,\n",
       " 'lahir': <gensim.models.keyedvectors.Vocab at 0x7efe86bd80b8>,\n",
       " 'sy': <gensim.models.keyedvectors.Vocab at 0x7efe86bd8be0>,\n",
       " 'suka': <gensim.models.keyedvectors.Vocab at 0x7efe86bd8550>,\n",
       " 'melanie': <gensim.models.keyedvectors.Vocab at 0x7efe86bd8400>,\n",
       " 'ricardo': <gensim.models.keyedvectors.Vocab at 0x7efe86bd8080>,\n",
       " 'pantes': <gensim.models.keyedvectors.Vocab at 0x7efe86bd8f98>,\n",
       " 'tamu': <gensim.models.keyedvectors.Vocab at 0x7efe86bd8048>,\n",
       " 'krn': <gensim.models.keyedvectors.Vocab at 0x7efe86bd8978>,\n",
       " 'org': <gensim.models.keyedvectors.Vocab at 0x7efe86bd86a0>,\n",
       " 'kurang': <gensim.models.keyedvectors.Vocab at 0x7efe88177828>,\n",
       " 'suaminya': <gensim.models.keyedvectors.Vocab at 0x7efe88180160>,\n",
       " 'kayak': <gensim.models.keyedvectors.Vocab at 0x7efe88180c18>,\n",
       " 'salak': <gensim.models.keyedvectors.Vocab at 0x7efe881803c8>,\n",
       " 'nggak': <gensim.models.keyedvectors.Vocab at 0x7efe88180d30>,\n",
       " 'ramadhani': <gensim.models.keyedvectors.Vocab at 0x7efe88134710>,\n",
       " 'y': <gensim.models.keyedvectors.Vocab at 0x7efe881340b8>,\n",
       " 'aj': <gensim.models.keyedvectors.Vocab at 0x7efe881346a0>,\n",
       " 'n': <gensim.models.keyedvectors.Vocab at 0x7efe88134c88>,\n",
       " 'mah': <gensim.models.keyedvectors.Vocab at 0x7efe8816db70>,\n",
       " 'tiktok': <gensim.models.keyedvectors.Vocab at 0x7efe8816da58>,\n",
       " 'coba': <gensim.models.keyedvectors.Vocab at 0x7efe8816d400>,\n",
       " 'trs': <gensim.models.keyedvectors.Vocab at 0x7efe8816d1d0>,\n",
       " 'luna': <gensim.models.keyedvectors.Vocab at 0x7efe8816d208>,\n",
       " 'maya': <gensim.models.keyedvectors.Vocab at 0x7efe8816dbe0>,\n",
       " 'namanya': <gensim.models.keyedvectors.Vocab at 0x7efe8816d0f0>,\n",
       " 'panggung': <gensim.models.keyedvectors.Vocab at 0x7efe8816df60>,\n",
       " 'nga': <gensim.models.keyedvectors.Vocab at 0x7efe8816d828>,\n",
       " 'melani': <gensim.models.keyedvectors.Vocab at 0x7efe8816d588>,\n",
       " 'attitude': <gensim.models.keyedvectors.Vocab at 0x7efe8812cc18>,\n",
       " 'model': <gensim.models.keyedvectors.Vocab at 0x7efe8812c518>,\n",
       " 'harta': <gensim.models.keyedvectors.Vocab at 0x7efe880f3198>,\n",
       " 'nagita': <gensim.models.keyedvectors.Vocab at 0x7efe8813d2b0>,\n",
       " 'ngak': <gensim.models.keyedvectors.Vocab at 0x7efe880e7860>,\n",
       " 'sultan': <gensim.models.keyedvectors.Vocab at 0x7efe880e70f0>,\n",
       " 'udh': <gensim.models.keyedvectors.Vocab at 0x7efe880e7c50>,\n",
       " 'lo': <gensim.models.keyedvectors.Vocab at 0x7efe880e7240>,\n",
       " 'ardi': <gensim.models.keyedvectors.Vocab at 0x7efe880e7470>,\n",
       " 'kyk': <gensim.models.keyedvectors.Vocab at 0x7efe880e79e8>,\n",
       " 'suruh': <gensim.models.keyedvectors.Vocab at 0x7efe883c9f28>,\n",
       " 'ngehost': <gensim.models.keyedvectors.Vocab at 0x7efe883c9ef0>,\n",
       " 'kritik': <gensim.models.keyedvectors.Vocab at 0x7efe8818ac18>,\n",
       " 'artis': <gensim.models.keyedvectors.Vocab at 0x7efe8818a208>,\n",
       " 'kya': <gensim.models.keyedvectors.Vocab at 0x7efe8818a4e0>,\n",
       " 'bad': <gensim.models.keyedvectors.Vocab at 0x7efe883c7748>,\n",
       " 'hrs': <gensim.models.keyedvectors.Vocab at 0x7efe883c7c18>,\n",
       " 'bkn': <gensim.models.keyedvectors.Vocab at 0x7efe883c7e10>,\n",
       " 'kyak': <gensim.models.keyedvectors.Vocab at 0x7efe883c7358>,\n",
       " 'jdi': <gensim.models.keyedvectors.Vocab at 0x7efe883c77b8>,\n",
       " 'aa': <gensim.models.keyedvectors.Vocab at 0x7efe883c7400>,\n",
       " 'bju': <gensim.models.keyedvectors.Vocab at 0x7efe883c7828>,\n",
       " 'dr': <gensim.models.keyedvectors.Vocab at 0x7efe88462dd8>,\n",
       " 'ny': <gensim.models.keyedvectors.Vocab at 0x7efe880edb00>,\n",
       " 'lagian': <gensim.models.keyedvectors.Vocab at 0x7efe88414518>,\n",
       " 'nyonya': <gensim.models.keyedvectors.Vocab at 0x7efe88414898>,\n",
       " 'mata': <gensim.models.keyedvectors.Vocab at 0x7efe88414b38>,\n",
       " 'telor': <gensim.models.keyedvectors.Vocab at 0x7efe884145f8>,\n",
       " 'istri': <gensim.models.keyedvectors.Vocab at 0x7efe884142e8>,\n",
       " 'suami': <gensim.models.keyedvectors.Vocab at 0x7efe88414fd0>,\n",
       " 'untung': <gensim.models.keyedvectors.Vocab at 0x7efe88414cf8>,\n",
       " 'benerin': <gensim.models.keyedvectors.Vocab at 0x7efe884140b8>,\n",
       " 'komen': <gensim.models.keyedvectors.Vocab at 0x7efe884144a8>,\n",
       " 'dah': <gensim.models.keyedvectors.Vocab at 0x7efe88414f28>,\n",
       " 'anak': <gensim.models.keyedvectors.Vocab at 0x7efe88414f60>,\n",
       " 'ama': <gensim.models.keyedvectors.Vocab at 0x7efe88414e48>,\n",
       " 'gini': <gensim.models.keyedvectors.Vocab at 0x7efe88414ac8>,\n",
       " 'x': <gensim.models.keyedvectors.Vocab at 0x7efe88414588>,\n",
       " 'good': <gensim.models.keyedvectors.Vocab at 0x7efe88414358>,\n",
       " 'looking': <gensim.models.keyedvectors.Vocab at 0x7efe88414dd8>,\n",
       " 'kn': <gensim.models.keyedvectors.Vocab at 0x7efe86bf70f0>,\n",
       " 'rumah': <gensim.models.keyedvectors.Vocab at 0x7efe86bf7cf8>,\n",
       " 'bos': <gensim.models.keyedvectors.Vocab at 0x7efe86bf7f98>,\n",
       " 'semangat': <gensim.models.keyedvectors.Vocab at 0x7efe86bf7f60>,\n",
       " 'positif': <gensim.models.keyedvectors.Vocab at 0x7efe86bf74a8>,\n",
       " 'biar': <gensim.models.keyedvectors.Vocab at 0x7efe86bf76a0>,\n",
       " 'ajah': <gensim.models.keyedvectors.Vocab at 0x7efe86bf77b8>,\n",
       " 'sibuk': <gensim.models.keyedvectors.Vocab at 0x7efe86bf7c18>,\n",
       " 'yah': <gensim.models.keyedvectors.Vocab at 0x7efe86bf7da0>,\n",
       " 'seru': <gensim.models.keyedvectors.Vocab at 0x7efe883c82b0>,\n",
       " 'cm': <gensim.models.keyedvectors.Vocab at 0x7efe883c8128>,\n",
       " 'duit': <gensim.models.keyedvectors.Vocab at 0x7efe883c8e80>,\n",
       " 'tok': <gensim.models.keyedvectors.Vocab at 0x7efe883c8eb8>,\n",
       " 'dpn': <gensim.models.keyedvectors.Vocab at 0x7efe8847ba20>,\n",
       " 'minus': <gensim.models.keyedvectors.Vocab at 0x7efe88472048>,\n",
       " 'gtu': <gensim.models.keyedvectors.Vocab at 0x7efe86be7a20>,\n",
       " 'lht': <gensim.models.keyedvectors.Vocab at 0x7efe86be7d68>,\n",
       " 'ngupas': <gensim.models.keyedvectors.Vocab at 0x7efe86be7240>,\n",
       " 'aurat': <gensim.models.keyedvectors.Vocab at 0x7efe86be7748>,\n",
       " 'hos': <gensim.models.keyedvectors.Vocab at 0x7efe86be75c0>,\n",
       " 'rcti': <gensim.models.keyedvectors.Vocab at 0x7efe86be7b00>,\n",
       " 'bz': <gensim.models.keyedvectors.Vocab at 0x7efe86be7710>,\n",
       " 'kupas': <gensim.models.keyedvectors.Vocab at 0x7efe86be70b8>,\n",
       " 'ja': <gensim.models.keyedvectors.Vocab at 0x7efe86be7e10>}"
      ]
     },
     "execution_count": 308,
     "metadata": {},
     "output_type": "execute_result"
    }
   ],
   "source": [
    "w2v_model.wv.vocab"
   ]
  },
  {
   "cell_type": "code",
   "execution_count": null,
   "metadata": {},
   "outputs": [],
   "source": []
  },
  {
   "cell_type": "code",
   "execution_count": null,
   "metadata": {},
   "outputs": [],
   "source": []
  },
  {
   "cell_type": "code",
   "execution_count": null,
   "metadata": {},
   "outputs": [],
   "source": []
  }
 ],
 "metadata": {
  "colab": {
   "authorship_tag": "ABX9TyNndYwFY7Nm1OqQ2u/nRiyz",
   "name": "w2vec_article.ipynb",
   "provenance": []
  },
  "kernelspec": {
   "display_name": "Python 3",
   "language": "python",
   "name": "python3"
  },
  "language_info": {
   "codemirror_mode": {
    "name": "ipython",
    "version": 3
   },
   "file_extension": ".py",
   "mimetype": "text/x-python",
   "name": "python",
   "nbconvert_exporter": "python",
   "pygments_lexer": "ipython3",
   "version": "3.7.3"
  }
 },
 "nbformat": 4,
 "nbformat_minor": 1
}
